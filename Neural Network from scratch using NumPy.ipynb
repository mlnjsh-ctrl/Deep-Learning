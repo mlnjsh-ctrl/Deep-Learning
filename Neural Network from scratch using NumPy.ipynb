{
 "cells": [
  {
   "cell_type": "markdown",
   "metadata": {},
   "source": [
    "# Quiz on Neural Networks Concepts\n",
    "\n",
    "## 1. What is the primary purpose of weights in a neural network?\n",
    "- A) To store input data\n",
    "- B) To adjust the influence of inputs\n",
    "- C) To provide bias to the output\n",
    "- D) To calculate activation functions\n",
    "\n",
    "**Answer:** B) To adjust the influence of inputs\n",
    "\n",
    "## 2. What does the bias term in a neural network do?\n",
    "- A) Shifts the activation function\n",
    "- B) Multiplies the weights\n",
    "- C) Reduces the error rate\n",
    "- D) Increases the number of neurons\n",
    "\n",
    "**Answer:** A) Shifts the activation function\n",
    "\n",
    "## 3. What is forward propagation in neural networks?\n",
    "- A) The process of training the network\n",
    "- B) The process of calculating the output of the network\n",
    "- C) The process of initializing weights\n",
    "- D) The process of optimizing hyperparameters\n",
    "\n",
    "**Answer:** B) The process of calculating the output of the network\n",
    "\n",
    "## 4. What is backward propagation (backpropagation)?\n",
    "- A) Calculating the loss of the model\n",
    "- B) Updating the weights based on errors\n",
    "- C) Initializing weights to random values\n",
    "- D) Forwarding inputs through the network\n",
    "\n",
    "**Answer:** B) Updating the weights based on errors\n",
    "\n",
    "## 5. Which activation function is defined as \\(f(x) = \\frac{1}{1 + e^{-x}}\\)?\n",
    "- A) ReLU\n",
    "- B) Sigmoid\n",
    "- C) Tanh\n",
    "- D) Softmax\n",
    "\n",
    "**Answer:** B) Sigmoid\n",
    "\n",
    "## 6. What is the purpose of an activation function in a neural network?\n",
    "- A) To normalize input data\n",
    "- B) To introduce non-linearity to the model\n",
    "- C) To update weights during training\n",
    "- D) To calculate the gradient of the loss function\n",
    "\n",
    "**Answer:** B) To introduce non-linearity to the model\n",
    "\n",
    "## 7. Which of the following is a common loss function for binary classification?\n",
    "- A) Mean Squared Error (MSE)\n",
    "- B) Cross-Entropy Loss\n",
    "- C) Mean Absolute Error (MAE)\n",
    "- D) Hinge Loss\n",
    "\n",
    "**Answer:** B) Cross-Entropy Loss\n",
    "\n",
    "## 8. What is the primary goal of gradient descent in neural networks?\n",
    "- A) To maximize the loss function\n",
    "- B) To minimize the loss function\n",
    "- C) To increase the learning rate\n",
    "- D) To initialize the weights\n",
    "\n",
    "**Answer:** B) To minimize the loss function\n",
    "\n",
    "## 9. Which of these is NOT an activation function?\n",
    "- A) ReLU\n",
    "- B) Tanh\n",
    "- C) Leaky ReLU\n",
    "- D) Cross-Entropy\n",
    "\n",
    "**Answer:** D) Cross-Entropy\n",
    "\n",
    "## 10. What does the learning rate control in gradient descent?\n",
    "- A) The number of hidden layers\n",
    "- B) The size of the steps taken during optimization\n",
    "- C) The type of activation function\n",
    "- D) The number of neurons in each layer\n",
    "\n",
    "**Answer:** B) The size of the steps taken during optimization\n",
    "\n",
    "## 11. In which scenario would you use the Softmax activation function?\n",
    "- A) Regression problems\n",
    "- B) Multi-class classification\n",
    "- C) Binary classification\n",
    "- D) Clustering\n",
    "\n",
    "**Answer:** B) Multi-class classification\n",
    "\n",
    "## 12. Which optimization technique helps to avoid overfitting in neural networks?\n",
    "- A) Stochastic Gradient Descent (SGD)\n",
    "- B) Dropout\n",
    "- C) ReLU Activation\n",
    "- D) Forward Propagation\n",
    "\n",
    "**Answer:** B) Dropout\n",
    "\n",
    "## 13. What does the term \"epoch\" mean in neural network training?\n",
    "- A) One pass through all of the training data\n",
    "- B) One update of a single weight\n",
    "- C) One forward pass of a single input\n",
    "- D) One backward pass of a single input\n",
    "\n",
    "**Answer:** A) One pass through all of the training data\n",
    "\n",
    "## 14. Which activation function is most likely to cause the vanishing gradient problem?\n",
    "- A) ReLU\n",
    "- B) Sigmoid\n",
    "- C) Softmax\n",
    "- D) Leaky ReLU\n",
    "\n",
    "**Answer:** B) Sigmoid\n",
    "\n",
    "## 15. What is the primary advantage of using ReLU over Sigmoid or Tanh?\n",
    "- A) ReLU can output only binary values\n",
    "- B) ReLU is less computationally expensive\n",
    "- C) ReLU has no derivative\n",
    "- D) ReLU does not have a bias term\n",
    "\n",
    "**Answer:** B) ReLU is less computationally expensive\n",
    "\n",
    "## 16. What is the purpose of the bias in a neural network?\n",
    "- A) To prevent the model from overfitting\n",
    "- B) To allow the model to fit better by shifting the activation function\n",
    "- C) To make the model train faster\n",
    "- D) To control the learning rate\n",
    "\n",
    "**Answer:** B) To allow the model to fit better by shifting the activation function\n",
    "\n",
    "## 17. What does \"gradient\" refer to in the context of gradient descent?\n",
    "- A) The total error of the model\n",
    "- B) The slope of the loss function with respect to the weights\n",
    "- C) The number of neurons in a layer\n",
    "- D) The difference between predicted and actual values\n",
    "\n",
    "**Answer:** B) The slope of the loss function with respect to the weights\n",
    "\n",
    "## 18. Which technique is used to prevent the exploding gradient problem?\n",
    "- A) Learning Rate Decay\n",
    "- B) Gradient Clipping\n",
    "- C) Dropout\n",
    "- D) Cross-Validation\n",
    "\n",
    "**Answer:** B) Gradient Clipping\n",
    "\n",
    "## 19. What does \"stochastic\" mean in Stochastic Gradient Descent?\n",
    "- A) Deterministic\n",
    "- B) Based on a small, random sample\n",
    "- C) Always uses all data\n",
    "- D) Optimizes without randomness\n",
    "\n",
    "**Answer:** B) Based on a small, random sample\n",
    "\n",
    "## 20. Which type of loss function is typically used for regression tasks?\n",
    "- A) Hinge Loss\n",
    "- B) Mean Squared Error (MSE)\n",
    "- C) Cross-Entropy Loss\n",
    "- D) Categorical Cross-Entropy\n",
    "\n",
    "**Answer:** B) Mean Squared Error (MSE)\n",
    "\n",
    "## 21. What is the main drawback of using a high learning rate in gradient descent?\n",
    "- A) Slow convergence\n",
    "- B) Oscillation around the minimum\n",
    "- C) Overfitting the model\n",
    "- D) Increased computation time\n",
    "\n",
    "**Answer:** B) Oscillation around the minimum\n",
    "\n",
    "## 22. What is the function of batch normalization in a neural network?\n",
    "- A) To normalize input data\n",
    "- B) To speed up training and reduce internal covariate shift\n",
    "- C) To increase model complexity\n",
    "- D) To regularize the model\n",
    "\n",
    "**Answer:** B) To speed up training and reduce internal covariate shift\n",
    "\n",
    "## 23. Which of the following is NOT a type of gradient descent?\n",
    "- A) Mini-batch Gradient Descent\n",
    "- B) Stochastic Gradient Descent\n",
    "- C) Batch Gradient Descent\n",
    "- D) Dynamic Gradient Descent\n",
    "\n",
    "**Answer:** D) Dynamic Gradient Descent\n",
    "\n",
    "## 24. What is \"momentum\" in the context of neural network optimization?\n",
    "- A) A method to accelerate gradient vectors\n",
    "- B) A technique to reduce the number of epochs\n",
    "- C) An activation function\n",
    "- D) A regularization technique\n",
    "\n",
    "**Answer:** A) A method to accelerate gradient vectors\n",
    "\n",
    "## 25. Which function represents a linear activation function?\n",
    "- A) $f(x) = max(0, x)$\n",
    "- B) $f(x) = x$\n",
    "- C) $f(x) = \\frac{1}{1 + e^{-x}}$\n",
    "- D) $f(x) = tanh(x)$\n",
    "\n",
    "**Answer:** B) $f(x) = x$\n",
    "\n",
    "## 26. What happens during the backpropagation process?\n",
    "- A) Weights are initialized randomly\n",
    "- B) The gradient of the loss is calculated with respect to each weight\n",
    "- C) The model's architecture is defined\n",
    "- D) The input is passed through the network\n",
    "\n",
    "**Answer:** B) The gradient of the loss is calculated with respect to each weight\n",
    "\n",
    "## 27. Which of the following is true for the Rectified Linear Unit (ReLU) function?\n",
    "- A) It has a range of (-1, 1)\n",
    "- B) It introduces non-linearity in the model\n",
    "- C) It always outputs values greater than zero\n",
    "- D) It is computationally expensive\n",
    "\n",
    "**Answer:** B) It introduces non-linearity in the model\n",
    "\n",
    "## 28. Why is Cross-Entropy Loss often preferred over Mean Squared Error for classification tasks?\n",
    "- A) Cross-Entropy Loss is faster\n",
    "- B) Mean Squared Error does not work with classification\n",
    "- C) Cross-Entropy Loss provides probabilistic interpretation\n",
    "- D) Mean Squared Error is computationally expensive\n",
    "\n",
    "**Answer:** C) Cross-Entropy Loss provides probabilistic interpretation\n",
    "\n",
    "## 29. What is the \"learning rate decay\" in neural network training?\n",
    "- A) Increasing the learning rate during training\n",
    "- B) Decreasing the learning rate as training progresses\n",
    "- C) Keeping the learning rate constant\n",
    "- D) Adjusting the weights directly\n",
    "\n",
    "**Answer:** B) Decreasing the learning rate as training progresses\n",
    "\n",
    "## 30. Which of the following methods is used to update the weights in a neural network?\n",
    "- A) Cross-Validation\n",
    "- B) Forward Propagation\n",
    "- C) Backpropagation\n",
    "- D) Activation Function\n",
    "\n",
    "**Answer:** C) Backpropagation\n",
    "\n",
    "## 31. Which function has outputs only in the range of 0 to 1?\n",
    "- A) Tanh\n",
    "- B) ReLU\n",
    "- C) Sigmoid\n",
    "- D) Linear\n",
    "\n",
    "**Answer:** C) Sigmoid\n",
    "\n",
    "## 32. What is the result of using a very small learning rate in gradient descent?\n",
    "- A) Fast convergence\n",
    "- B) Slow convergence\n",
    "- C) Skipping over the minimum\n",
    "- D) No effect on convergence\n",
    "\n",
    "**Answer:** B) Slow convergence\n",
    "\n",
    "## 33. Which type of gradient descent uses the entire dataset for every step?\n",
    "- A) Stochastic Gradient Descent\n",
    "- B) Mini-Batch Gradient Descent\n",
    "- C) Batch Gradient Descent\n",
    "- D) Momentum-based Gradient Descent\n",
    "\n",
    "**Answer:** C) Batch Gradient Descent\n",
    "\n",
    "## 34. What is the main advantage of the Leaky ReLU activation function over ReLU?\n",
    "- A) It has a fixed output range\n",
    "- B) It does not suffer from dying neurons\n",
    "- C) It is more computationally efficient\n",
    "- D) It has a probabilistic interpretation\n",
    "\n",
    "**Answer:** B) It does not suffer from dying neurons\n",
    "\n",
    "## 35. What is the typical shape of a loss function for neural network training?\n",
    "- A) Linear\n",
    "- B) Quadratic\n",
    "- C) Convex\n",
    "- D) Non-convex\n",
    "\n",
    "**Answer:** D) Non-convex\n",
    "\n",
    "## 36. Which optimization technique adapts the learning rate during training?\n",
    "- A) Adam\n",
    "- B) SGD\n",
    "- C) Momentum\n",
    "- D) Adagrad\n",
    "\n",
    "**Answer:** A) Adam\n",
    "\n",
    "## 37. Which activation function is zero-centered?\n",
    "- A) Sigmoid\n",
    "- B) ReLU\n",
    "- C) Tanh\n",
    "- D) Softmax\n",
    "\n",
    "**Answer:** C) Tanh\n",
    "\n",
    "## 38. What does the term \"epoch\" in neural network training indicate?\n",
    "- A) One complete cycle of forward and backward propagation for all training samples\n",
    "- B) One iteration through a mini-batch of data\n",
    "- C) The number of hidden layers in the network\n",
    "- D) The total number of neurons in the network\n",
    "\n",
    "**Answer:** A) One complete cycle of forward and backward propagation for all training samples\n",
    "\n",
    "## 39. What is the main purpose of using the Softmax function?\n",
    "- A) To reduce the number of features\n",
    "- B) To scale values to the range of 0 to 1\n",
    "- C) To convert values into probabilities\n",
    "- D) To minimize loss\n",
    "\n",
    "**Answer:** C) To convert values into probabilities\n",
    "\n",
    "## 40. Which loss function is suitable for multi-class classification?\n",
    "- A) Mean Squared Error\n",
    "- B) Hinge Loss\n",
    "- C) Categorical Cross-Entropy\n",
    "- D) Mean Absolute Error\n",
    "\n",
    "**Answer:** C) Categorical Cross-Entropy\n"
   ]
  },
  {
   "cell_type": "markdown",
   "metadata": {},
   "source": [
    "# Quiz on Neural Network Numerical Concepts\n",
    "\n",
    "## 1. If a neural network has 3 input neurons, 2 hidden layers with 5 neurons each, and 1 output neuron, how many total neurons are there in the network?\n",
    "- A) 11\n",
    "- B) 14\n",
    "- C) 10\n",
    "- D) 13\n",
    "\n",
    "**Answer:** D) 13\n",
    "\n",
    "## 2. For a neural network with 1000 training examples and a batch size of 50, how many iterations are required per epoch?\n",
    "- A) 10\n",
    "- B) 20\n",
    "- C) 50\n",
    "- D) 200\n",
    "\n",
    "**Answer:** B) 20\n",
    "\n",
    "## 3. How many parameters (weights) are there between the input layer (3 neurons) and the hidden layer (4 neurons) of a neural network?\n",
    "- A) 7\n",
    "- B) 10\n",
    "- C) 12\n",
    "- D) 15\n",
    "\n",
    "**Answer:** C) 12\n",
    "\n",
    "## 4. If a neural network has 2 hidden layers with 8 neurons each and uses the ReLU activation function, how many ReLU operations are performed per forward pass?\n",
    "- A) 8\n",
    "- B) 16\n",
    "- C) 2\n",
    "- D) 10\n",
    "\n",
    "**Answer:** B) 16\n",
    "\n",
    "## 5. If you train a neural network for 100 epochs, with a batch size of 32 and 1024 training samples, how many iterations are performed in total?\n",
    "- A) 3200\n",
    "- B) 100\n",
    "- C) 320\n",
    "- D) 1024\n",
    "\n",
    "**Answer:** A) 3200\n",
    "\n",
    "## 6. A neural network has 2 hidden layers: the first with 10 neurons and the second with 5 neurons. If the input layer has 4 neurons, what is the total number of weight parameters excluding biases?\n",
    "- A) 50\n",
    "- B) 70\n",
    "- C) 65\n",
    "- D) 60\n",
    "\n",
    "**Answer:** B) 70\n",
    "\n",
    "## 7. If the input dimension is 5 and the output dimension is 3, how many weights are in the output layer?\n",
    "- A) 5\n",
    "- B) 8\n",
    "- C) 15\n",
    "- D) 3\n",
    "\n",
    "**Answer:** C) 15\n",
    "\n",
    "## 8. How many different weights are required in a neural network with 6 input neurons, 3 hidden neurons, and 2 output neurons?\n",
    "- A) 18\n",
    "- B) 24\n",
    "- C) 26\n",
    "- D) 20\n",
    "\n",
    "**Answer:** D) 20\n",
    "\n",
    "## 9. How many epochs are needed to complete 100 iterations with a batch size of 10 for a dataset with 1000 samples?\n",
    "- A) 1\n",
    "- B) 5\n",
    "- C) 10\n",
    "- D) 50\n",
    "\n",
    "**Answer:** C) 10\n",
    "\n",
    "## 10. In a neural network, if there are 128 hidden neurons in the first hidden layer, how many bias terms are associated with this layer?\n",
    "- A) 128\n",
    "- B) 64\n",
    "- C) 256\n",
    "- D) 1\n",
    "\n",
    "**Answer:** A) 128\n",
    "\n",
    "## 11. For a network with 3 layers and each layer having 5 neurons, how many total neurons are present in the network?\n",
    "- A) 5\n",
    "- B) 10\n",
    "- C) 15\n",
    "- D) 20\n",
    "\n",
    "**Answer:** C) 15\n",
    "\n",
    "## 12. A neural network uses the Sigmoid activation function for its output layer. If the input to this layer is 0.5, what is the output?\n",
    "- A) 0.73\n",
    "- B) 0.62\n",
    "- C) 0.47\n",
    "- D) 0.59\n",
    "\n",
    "**Answer:** B) 0.62\n",
    "\n",
    "## 13. If a neural network has 100,000 parameters and takes 1 second per epoch, how long will it take to train for 500 epochs?\n",
    "- A) 500 seconds\n",
    "- B) 50 minutes\n",
    "- C) 10 minutes\n",
    "- D) 1 hour\n",
    "\n",
    "**Answer:** A) 500 seconds\n",
    "\n",
    "## 14. If a neural network has an input layer of 4 neurons and a hidden layer of 6 neurons, what is the dimensionality of the weight matrix connecting these two layers?\n",
    "- A) (6, 4)\n",
    "- B) (4, 6)\n",
    "- C) (6, 5)\n",
    "- D) (5, 6)\n",
    "\n",
    "**Answer:** B) (4, 6)\n",
    "\n",
    "## 15. For a neural network with 2 hidden layers, each containing 16 neurons, and 1 output layer containing 1 neuron, how many total neurons are in the hidden layers?\n",
    "- A) 16\n",
    "- B) 32\n",
    "- C) 17\n",
    "- D) 33\n",
    "\n",
    "**Answer:** B) 32\n",
    "\n",
    "## 16. If a dataset has 5000 samples and the neural network is trained using 5 epochs, how many samples are processed in total?\n",
    "- A) 1000\n",
    "- B) 5000\n",
    "- C) 25000\n",
    "- D) 10000\n",
    "\n",
    "**Answer:** C) 25000\n",
    "\n",
    "## 17. How many epochs does it take for a neural network to have seen 10,000 samples with a batch size of 250?\n",
    "- A) 4\n",
    "- B) 20\n",
    "- C) 40\n",
    "- D) 50\n",
    "\n",
    "**Answer:** B) 40\n",
    "\n",
    "## 18. If the learning rate is set to 0.001, and the initial loss is 2.5, what will be the new loss after one iteration if the loss gradient is -0.4?\n",
    "- A) 2.1\n",
    "- B) 2.4\n",
    "- C) 2.6\n",
    "- D) 2.9\n",
    "\n",
    "**Answer:** B) 2.4\n",
    "\n",
    "## 19. How many iterations are required to complete 1 epoch for a dataset of 1200 samples and a batch size of 60?\n",
    "- A) 10\n",
    "- B) 20\n",
    "- C) 30\n",
    "- D) 60\n",
    "\n",
    "**Answer:** A) 20\n",
    "\n",
    "## 20. A neural network has 3 layers with the following number of neurons: 10, 20, 5. How many total weights are there between the layers (excluding biases)?\n",
    "- A) 50\n",
    "- B) 200\n",
    "- C) 250\n",
    "- D) 400\n",
    "\n",
    "**Answer:** B) 200\n",
    "\n",
    "## 21. For a neural network using the Tanh activation function, if the input is 1, what is the approximate output value?\n",
    "- A) 0.46\n",
    "- B) 0.76\n",
    "- C) 0.95\n",
    "- D) 0.99\n",
    "\n",
    "**Answer:** C) 0.95\n",
    "\n",
    "## 22. If you train a neural network with 500 epochs and reduce the learning rate by half every 100 epochs, how many times will the learning rate be reduced?\n",
    "- A) 2\n",
    "- B) 3\n",
    "- C) 4\n",
    "- D) 5\n",
    "\n",
    "**Answer:** D\n",
    "\n",
    "**Answer:** D) 5\n",
    "\n",
    "## 23. How many neurons are in the output layer of a neural network designed to classify digits from 0 to 9?\n",
    "- A) 1\n",
    "- B) 9\n",
    "- C) 10\n",
    "- D) 11\n",
    "\n",
    "**Answer:** C) 10\n",
    "\n",
    "## 24. A neural network has an input layer with 8 neurons, a hidden layer with 16 neurons, and an output layer with 4 neurons. How many total bias terms are in the network?\n",
    "- A) 4\n",
    "- B) 16\n",
    "- C) 20\n",
    "- D) 24\n",
    "\n",
    "**Answer:** C) 20\n",
    "\n",
    "## 25. If a neural network has 5000 weights and takes 2 milliseconds to update all weights per iteration, how much time does it take to complete 100 iterations?\n",
    "- A) 0.5 seconds\n",
    "- B) 1 second\n",
    "- C) 2 seconds\n",
    "- D) 10 seconds\n",
    "\n",
    "**Answer:** B) 1 second\n",
    "\n",
    "## 26. For a neural network trained with a batch size of 64, and there are 1280 samples, how many batches are processed per epoch?\n",
    "- A) 10\n",
    "- B) 15\n",
    "- C) 20\n",
    "- D) 25\n",
    "\n",
    "**Answer:** C) 20\n",
    "\n",
    "## 27. In a neural network, if the learning rate is 0.01 and the gradient of a weight is 0.5, what is the weight update value?\n",
    "- A) 0.005\n",
    "- B) 0.015\n",
    "- C) 0.05\n",
    "- D) 0.10\n",
    "\n",
    "**Answer:** A) 0.005\n",
    "\n",
    "## 28. How many hidden neurons are recommended in a hidden layer if the input layer has 20 neurons and the output layer has 10 neurons, using the \"rule of thumb\" method?\n",
    "- A) 5\n",
    "- B) 10\n",
    "- C) 15\n",
    "- D) 20\n",
    "\n",
    "**Answer:** C) 15\n",
    "\n",
    "## 29. If a neural network has 3 hidden layers with 50 neurons each and an output layer with 2 neurons, how many total neurons are there in the hidden and output layers?\n",
    "- A) 102\n",
    "- B) 150\n",
    "- C) 152\n",
    "- D) 200\n",
    "\n",
    "**Answer:** C) 152\n",
    "\n",
    "## 30. A neural network's activation function is ReLU. If the input is -3, what is the output?\n",
    "- A) -3\n",
    "- B) 0\n",
    "- C) 1\n",
    "- D) 3\n",
    "\n",
    "**Answer:** B) 0\n",
    "\n",
    "## 31. How many iterations are needed to complete 5 epochs for a dataset with 800 samples and a batch size of 40?\n",
    "- A) 10\n",
    "- B) 50\n",
    "- C) 100\n",
    "- D) 200\n",
    "\n",
    "**Answer:** B) 100\n",
    "\n",
    "## 32. If a neural network has 2 hidden layers, the first with 30 neurons and the second with 15 neurons, what is the total number of connections (weights) between these two layers?\n",
    "- A) 450\n",
    "- B) 600\n",
    "- C) 300\n",
    "- D) 45\n",
    "\n",
    "**Answer:** A) 450\n",
    "\n",
    "## 33. A neural network uses a learning rate of 0.1. If the initial loss is 0.9 and the gradient is 0.5, what is the updated loss after one iteration?\n",
    "- A) 0.85\n",
    "- B) 0.80\n",
    "- C) 0.75\n",
    "- D) 0.45\n",
    "\n",
    "**Answer:** B) 0.80\n",
    "\n",
    "## 34. For a neural network with 4 hidden layers, each containing 25 neurons, how many neurons are there in total in the hidden layers?\n",
    "- A) 25\n",
    "- B) 50\n",
    "- C) 100\n",
    "- D) 125\n",
    "\n",
    "**Answer:** C) 100\n",
    "\n",
    "## 35. How many total weights are needed between an input layer with 6 neurons and a hidden layer with 8 neurons?\n",
    "- A) 14\n",
    "- B) 48\n",
    "- C) 64\n",
    "- D) 72\n",
    "\n",
    "**Answer:** B) 48\n",
    "\n",
    "## 36. A neural network has an input layer of 10 neurons and an output layer of 5 neurons. How many weights are in the output layer?\n",
    "- A) 5\n",
    "- B) 15\n",
    "- C) 50\n",
    "- D) 55\n",
    "\n",
    "**Answer:** C) 50\n",
    "\n",
    "## 37. How many bias terms are needed for a neural network with 3 hidden layers, each with 10 neurons?\n",
    "- A) 10\n",
    "- B) 20\n",
    "- C) 30\n",
    "- D) 40\n",
    "\n",
    "**Answer:** C) 30\n",
    "\n",
    "## 38. If a dataset has 10,000 samples and is trained over 100 epochs with a batch size of 100, how many total samples are processed during training?\n",
    "- A) 10,000\n",
    "- B) 100,000\n",
    "- C) 1,000,000\n",
    "- D) 10,000,000\n",
    "\n",
    "**Answer:** B) 1,000,000\n",
    "\n",
    "## 39. If the ReLU activation function is used in a hidden layer with 32 neurons, how many activation outputs are computed per forward pass?\n",
    "- A) 16\n",
    "- B) 32\n",
    "- C) 64\n",
    "- D) 128\n",
    "\n",
    "**Answer:** B) 32\n",
    "\n",
    "## 40. How many weight parameters exist in a neural network layer that has 15 input neurons and 10 output neurons?\n",
    "- A) 15\n",
    "- B) 25\n",
    "- C) 150\n",
    "- D) 160\n",
    "\n",
    "**Answer:** C) 150\n",
    "\n"
   ]
  },
  {
   "cell_type": "markdown",
   "metadata": {
    "colab_type": "text",
    "id": "cEG1dhnuNFRk"
   },
   "source": [
    "# Steps to build a Neural Network in NumPy\n",
    "\n",
    "<ol>1. Loading the dataset (Input and Output)</ol>\n",
    "<ol>2. Architecture of the model (# input, hidden and output neurons)</ol>\n",
    "<ol>3. Initializing the weights for all the layers</ol>\n",
    "<ol>4. Implementing forward propagation</ol>\n",
    "<ol>5. Implementing backward propagation</ol>\n",
    "<ol>6. Train the model for n epochs </ol>"
   ]
  },
  {
   "cell_type": "code",
   "execution_count": 6,
   "metadata": {},
   "outputs": [],
   "source": [
    "#!pip install --upgrade numpy"
   ]
  },
  {
   "cell_type": "code",
   "execution_count": 3,
   "metadata": {},
   "outputs": [],
   "source": [
    "#!pip uninstall numpy\n",
    "#!pip install numpy==1.23.5\n"
   ]
  },
  {
   "cell_type": "markdown",
   "metadata": {
    "colab_type": "text",
    "id": "sbgj7HfHNFRr"
   },
   "source": [
    "## 1. Loading the dataset (Input and Output)"
   ]
  },
  {
   "cell_type": "code",
   "execution_count": 4,
   "metadata": {
    "colab": {},
    "colab_type": "code",
    "id": "E5S9HgBzNFRw"
   },
   "outputs": [],
   "source": [
    "# importing required libraries\n",
    "import numpy as np\n",
    "import matplotlib\n",
    "import matplotlib.pyplot as plt\n",
    "%matplotlib inline"
   ]
  },
  {
   "cell_type": "code",
   "execution_count": 5,
   "metadata": {
    "colab": {
     "base_uri": "https://localhost:8080/",
     "height": 34
    },
    "colab_type": "code",
    "executionInfo": {
     "elapsed": 1657,
     "status": "ok",
     "timestamp": 1585485745721,
     "user": {
      "displayName": "Pulkit Sharma",
      "photoUrl": "",
      "userId": "07234574884764057306"
     },
     "user_tz": -330
    },
    "id": "ogs6CaXu2zeZ",
    "outputId": "f5055dbe-331b-461c-a1a1-13d28149d528"
   },
   "outputs": [
    {
     "name": "stdout",
     "output_type": "stream",
     "text": [
      "Version of numpy: 1.23.5\n"
     ]
    }
   ],
   "source": [
    "# version of numpy library\n",
    "print('Version of numpy:',np.__version__)"
   ]
  },
  {
   "cell_type": "code",
   "execution_count": 6,
   "metadata": {
    "colab": {
     "base_uri": "https://localhost:8080/",
     "height": 34
    },
    "colab_type": "code",
    "executionInfo": {
     "elapsed": 1788,
     "status": "ok",
     "timestamp": 1585485751574,
     "user": {
      "displayName": "Pulkit Sharma",
      "photoUrl": "",
      "userId": "07234574884764057306"
     },
     "user_tz": -330
    },
    "id": "vNmvxGv723N6",
    "outputId": "340278d2-64d4-43b2-fd9e-02585dc66d21"
   },
   "outputs": [
    {
     "name": "stdout",
     "output_type": "stream",
     "text": [
      "Version of matplotlib: 3.7.2\n"
     ]
    }
   ],
   "source": [
    "# version of matplotlib library\n",
    "print('Version of matplotlib:',matplotlib.__version__)"
   ]
  },
  {
   "cell_type": "code",
   "execution_count": 7,
   "metadata": {
    "colab": {
     "base_uri": "https://localhost:8080/",
     "height": 139
    },
    "colab_type": "code",
    "executionInfo": {
     "elapsed": 1409,
     "status": "ok",
     "timestamp": 1585485752142,
     "user": {
      "displayName": "Pulkit Sharma",
      "photoUrl": "",
      "userId": "07234574884764057306"
     },
     "user_tz": -330
    },
    "id": "H_h7HoPONFR_",
    "outputId": "552026b7-f129-41e9-c8f4-22a4c9d80e6e"
   },
   "outputs": [
    {
     "name": "stdout",
     "output_type": "stream",
     "text": [
      "\n",
      " Input:\n",
      "[[1 0 1 0]\n",
      " [1 0 1 1]\n",
      " [0 1 0 1]]\n",
      "\n",
      " Shape of Input: (3, 4)\n"
     ]
    }
   ],
   "source": [
    "# creating the input array\n",
    "X=np.array([[1,0,1,0], [1,0,1,1], [0,1,0,1]])\n",
    "print ('\\n Input:')\n",
    "print(X)\n",
    "# shape of input array\n",
    "print('\\n Shape of Input:', X.shape)"
   ]
  },
  {
   "cell_type": "code",
   "execution_count": 8,
   "metadata": {
    "colab": {
     "base_uri": "https://localhost:8080/",
     "height": 156
    },
    "colab_type": "code",
    "executionInfo": {
     "elapsed": 3240,
     "status": "ok",
     "timestamp": 1585485756254,
     "user": {
      "displayName": "Pulkit Sharma",
      "photoUrl": "",
      "userId": "07234574884764057306"
     },
     "user_tz": -330
    },
    "id": "LVvQz5g39wo3",
    "outputId": "e0f22a43-1caa-4ca0-bfdd-0168c8853d6b"
   },
   "outputs": [
    {
     "name": "stdout",
     "output_type": "stream",
     "text": [
      "\n",
      " Input in matrix form:\n",
      "[[1 1 0]\n",
      " [0 0 1]\n",
      " [1 1 0]\n",
      " [0 1 1]]\n",
      "\n",
      " Shape of Input Matrix: (4, 3)\n"
     ]
    }
   ],
   "source": [
    "# converting the input in matrix form\n",
    "X = X.T\n",
    "print('\\n Input in matrix form:')\n",
    "print(X)\n",
    "# shape of input matrix\n",
    "print('\\n Shape of Input Matrix:', X.shape)"
   ]
  },
  {
   "cell_type": "code",
   "execution_count": 9,
   "metadata": {
    "colab": {
     "base_uri": "https://localhost:8080/",
     "height": 191
    },
    "colab_type": "code",
    "executionInfo": {
     "elapsed": 3079,
     "status": "ok",
     "timestamp": 1585485756256,
     "user": {
      "displayName": "Pulkit Sharma",
      "photoUrl": "",
      "userId": "07234574884764057306"
     },
     "user_tz": -330
    },
    "id": "IRe8JE0xNFSL",
    "outputId": "bd0f8cc4-140c-4788-fe12-0967af4b0f0f"
   },
   "outputs": [
    {
     "name": "stdout",
     "output_type": "stream",
     "text": [
      "\n",
      " Actual Output:\n",
      "[[1]\n",
      " [1]\n",
      " [0]]\n",
      "\n",
      " Output in matrix form:\n",
      "[[1 1 0]]\n",
      "\n",
      " Shape of Output: (1, 3)\n"
     ]
    }
   ],
   "source": [
    "# creating the output array\n",
    "y=np.array([[1],[1],[0]])\n",
    "print ('\\n Actual Output:')\n",
    "print(y)\n",
    "\n",
    "# output in matrix form\n",
    "y = y.T\n",
    "\n",
    "print ('\\n Output in matrix form:')\n",
    "print(y)\n",
    "\n",
    "# shape of input array\n",
    "print('\\n Shape of Output:', y.shape)"
   ]
  },
  {
   "cell_type": "markdown",
   "metadata": {
    "colab_type": "text",
    "id": "tKf4Ji1-NFSV"
   },
   "source": [
    "## 2. Architecture of the model (# input, hidden and output neurons)"
   ]
  },
  {
   "cell_type": "code",
   "execution_count": 10,
   "metadata": {
    "colab": {},
    "colab_type": "code",
    "id": "vlhBW0NNNFSg"
   },
   "outputs": [],
   "source": [
    "inputlayer_neurons = X.shape[0] # number of features in data set\n",
    "hiddenlayer_neurons = 3 # number of hidden layers neurons\n",
    "output_neurons = 1 # number of neurons at output layer"
   ]
  },
  {
   "cell_type": "markdown",
   "metadata": {
    "colab_type": "text",
    "id": "OoOsLucmNFSo"
   },
   "source": [
    "![alt text](https://drive.google.com/uc?id=1zrEFVsc6bMQZ7fRxbK4DRceaG78k26Pc)"
   ]
  },
  {
   "cell_type": "markdown",
   "metadata": {
    "colab_type": "text",
    "id": "_Nmwj8RfNFSr"
   },
   "source": [
    "## 3. Initializing the weights for all the layers\n",
    "\n",
    "NOTE: For simplicity, we are assuming that the bias for all the layers is 0"
   ]
  },
  {
   "cell_type": "code",
   "execution_count": 11,
   "metadata": {
    "colab": {},
    "colab_type": "code",
    "id": "1T1IG-W8NFSu"
   },
   "outputs": [],
   "source": [
    "# initializing weight\n",
    "# Shape of w_ih should number of neurons at input layer X number of neurons at hidden layer\n",
    "w_ih=np.random.uniform(size=(inputlayer_neurons,hiddenlayer_neurons))\n",
    "\n",
    "\n",
    "# Shape of w_ho should number of neurons at hidden layer X number of neurons at output layer\n",
    "w_ho=np.random.uniform(size=(hiddenlayer_neurons,output_neurons))"
   ]
  },
  {
   "cell_type": "code",
   "execution_count": 12,
   "metadata": {
    "colab": {
     "base_uri": "https://localhost:8080/",
     "height": 34
    },
    "colab_type": "code",
    "executionInfo": {
     "elapsed": 1009,
     "status": "ok",
     "timestamp": 1585485756260,
     "user": {
      "displayName": "Pulkit Sharma",
      "photoUrl": "",
      "userId": "07234574884764057306"
     },
     "user_tz": -330
    },
    "id": "Fpa1--9KNFS1",
    "outputId": "407ba6ee-ddc9-4830-d771-15704f6e39e6"
   },
   "outputs": [
    {
     "data": {
      "text/plain": [
       "((4, 3), (3, 1))"
      ]
     },
     "execution_count": 12,
     "metadata": {},
     "output_type": "execute_result"
    }
   ],
   "source": [
    "# shape of weight matrix\n",
    "w_ih.shape, w_ho.shape"
   ]
  },
  {
   "cell_type": "markdown",
   "metadata": {
    "colab_type": "text",
    "id": "srrDW1MNNFS-"
   },
   "source": [
    "## 4. Implementing forward propagation"
   ]
  },
  {
   "cell_type": "markdown",
   "metadata": {
    "colab_type": "text",
    "id": "-g-SocwQNFTC"
   },
   "source": [
    "![alt text](https://drive.google.com/uc?id=1YwD7vY9k84vZmjmE5CXgQ69fYyadPsox)"
   ]
  },
  {
   "cell_type": "code",
   "execution_count": 13,
   "metadata": {
    "colab": {},
    "colab_type": "code",
    "id": "sOcBji4iNFTE"
   },
   "outputs": [],
   "source": [
    "# We are using sigmoid as an activation function so defining the sigmoid function here\n",
    "\n",
    "# defining the Sigmoid Function\n",
    "def sigmoid (x):\n",
    "    return 1/(1 + np.exp(-x))"
   ]
  },
  {
   "cell_type": "code",
   "execution_count": 14,
   "metadata": {
    "colab": {},
    "colab_type": "code",
    "id": "DO6AYHtGNFTM"
   },
   "outputs": [],
   "source": [
    "# hidden layer activations\n",
    "\n",
    "hidden_layer_input=np.dot(w_ih.T,X)\n",
    "hiddenlayer_activations = sigmoid(hidden_layer_input)"
   ]
  },
  {
   "cell_type": "markdown",
   "metadata": {
    "colab_type": "text",
    "id": "o8zzYX6pNFTT"
   },
   "source": [
    "![alt text](https://drive.google.com/uc?id=1ETMoLD1fwi5u1HHLqtAdVUs-P8HNOU_p)"
   ]
  },
  {
   "cell_type": "code",
   "execution_count": 15,
   "metadata": {
    "colab": {},
    "colab_type": "code",
    "id": "CuqKwiToNFTW"
   },
   "outputs": [],
   "source": [
    "# calculating the output\n",
    "output_layer_input=np.dot(w_ho.T,hiddenlayer_activations)\n",
    "output = sigmoid(output_layer_input)"
   ]
  },
  {
   "cell_type": "code",
   "execution_count": 16,
   "metadata": {
    "colab": {
     "base_uri": "https://localhost:8080/",
     "height": 34
    },
    "colab_type": "code",
    "executionInfo": {
     "elapsed": 2132,
     "status": "ok",
     "timestamp": 1585485759226,
     "user": {
      "displayName": "Pulkit Sharma",
      "photoUrl": "",
      "userId": "07234574884764057306"
     },
     "user_tz": -330
    },
    "id": "BjPlMkVMNFTd",
    "outputId": "98153d29-d232-4e9f-da3f-f834a5ad8ad9"
   },
   "outputs": [
    {
     "data": {
      "text/plain": [
       "array([[0.71977029, 0.73322579, 0.75059794]])"
      ]
     },
     "execution_count": 16,
     "metadata": {},
     "output_type": "execute_result"
    }
   ],
   "source": [
    "# output\n",
    "output"
   ]
  },
  {
   "cell_type": "markdown",
   "metadata": {
    "colab_type": "text",
    "id": "mdFKMYyzNFTm"
   },
   "source": [
    "## 5. Implementing backward propagation"
   ]
  },
  {
   "cell_type": "markdown",
   "metadata": {
    "colab_type": "text",
    "id": "c2m3XBgZNFTn"
   },
   "source": [
    "![alt text](https://drive.google.com/uc?id=1uYdg4mQL-B9o7BTOLnfoYUhh_LxTnpcW)"
   ]
  },
  {
   "cell_type": "code",
   "execution_count": 17,
   "metadata": {
    "colab": {},
    "colab_type": "code",
    "id": "IvUAAhlcNFTp"
   },
   "outputs": [],
   "source": [
    "# calculating error\n",
    "error = np.square(y-output)/2"
   ]
  },
  {
   "cell_type": "markdown",
   "metadata": {
    "colab_type": "text",
    "id": "3H0vjBdNNFTw"
   },
   "source": [
    "### Rate of change of error w.r.t weight between hidden and output layer"
   ]
  },
  {
   "cell_type": "markdown",
   "metadata": {
    "colab_type": "text",
    "id": "4cncCd1WNFTz"
   },
   "source": [
    "![alt text](https://drive.google.com/uc?id=1_KexjgVJGRptZ6t1eobTter3mfIGo9rs)"
   ]
  },
  {
   "cell_type": "markdown",
   "metadata": {
    "colab_type": "text",
    "id": "DqrhlDeDNFT1"
   },
   "source": [
    "**a. Rate of change of error w.r.t output**\n",
    "\n",
    "**b. Rate of change of output w.r.t Z2**\n",
    "\n",
    "**c. Rate of change of Z2 w.r.t weights between hidden and output layer**"
   ]
  },
  {
   "cell_type": "code",
   "execution_count": 18,
   "metadata": {
    "colab": {},
    "colab_type": "code",
    "id": "bKdk5m4FNFT3"
   },
   "outputs": [],
   "source": [
    "# rate of change of error w.r.t. output\n",
    "error_wrt_output = -(y-output)"
   ]
  },
  {
   "cell_type": "code",
   "execution_count": 19,
   "metadata": {
    "colab": {},
    "colab_type": "code",
    "id": "Bl1PDwrBNFT9"
   },
   "outputs": [],
   "source": [
    "# rate of change of output w.r.t. Z2\n",
    "output_wrt_Z2 = np.multiply(output,(1-output))"
   ]
  },
  {
   "cell_type": "code",
   "execution_count": 21,
   "metadata": {
    "colab": {},
    "colab_type": "code",
    "id": "3vLk1nxLNFUD"
   },
   "outputs": [],
   "source": [
    "# rate of change of Z2 w.r.t. weights between hidden and output layer\n",
    "Z2_wrt_who = hiddenlayer_activations"
   ]
  },
  {
   "cell_type": "code",
   "execution_count": 22,
   "metadata": {
    "colab": {
     "base_uri": "https://localhost:8080/",
     "height": 34
    },
    "colab_type": "code",
    "executionInfo": {
     "elapsed": 1953,
     "status": "ok",
     "timestamp": 1585485762993,
     "user": {
      "displayName": "Pulkit Sharma",
      "photoUrl": "",
      "userId": "07234574884764057306"
     },
     "user_tz": -330
    },
    "id": "UXXifY9QNFUI",
    "outputId": "869382cd-4440-47f1-c249-db25f9073338"
   },
   "outputs": [
    {
     "data": {
      "text/plain": [
       "((1, 3), (1, 3), (3, 3))"
      ]
     },
     "execution_count": 22,
     "metadata": {},
     "output_type": "execute_result"
    }
   ],
   "source": [
    "# checking the shapes of partial derivatives\n",
    "error_wrt_output.shape, output_wrt_Z2.shape, Z2_wrt_who.shape"
   ]
  },
  {
   "cell_type": "code",
   "execution_count": 23,
   "metadata": {
    "colab": {
     "base_uri": "https://localhost:8080/",
     "height": 34
    },
    "colab_type": "code",
    "executionInfo": {
     "elapsed": 1725,
     "status": "ok",
     "timestamp": 1585485762995,
     "user": {
      "displayName": "Pulkit Sharma",
      "photoUrl": "",
      "userId": "07234574884764057306"
     },
     "user_tz": -330
    },
    "id": "ZvtS7wCRNFUN",
    "outputId": "377481a7-6b8f-4d0c-abe2-82060ce48ab0"
   },
   "outputs": [
    {
     "data": {
      "text/plain": [
       "(3, 1)"
      ]
     },
     "execution_count": 23,
     "metadata": {},
     "output_type": "execute_result"
    }
   ],
   "source": [
    "# shape of weights of output layer\n",
    "w_ho.shape"
   ]
  },
  {
   "cell_type": "markdown",
   "metadata": {
    "colab_type": "text",
    "id": "gC9zQEH6HON5"
   },
   "source": [
    "![alt text](https://drive.google.com/uc?id=1VesmZOVpfgLFESvOFd7dE-YHNtSMMkvM)"
   ]
  },
  {
   "cell_type": "code",
   "execution_count": 24,
   "metadata": {
    "colab": {},
    "colab_type": "code",
    "id": "l3HNVYGONFUr"
   },
   "outputs": [],
   "source": [
    "# rate of change of error w.r.t weight between hidden and output layer\n",
    "error_wrt_who = np.dot(Z2_wrt_who,(error_wrt_output*output_wrt_Z2).T)"
   ]
  },
  {
   "cell_type": "code",
   "execution_count": 25,
   "metadata": {
    "colab": {
     "base_uri": "https://localhost:8080/",
     "height": 34
    },
    "colab_type": "code",
    "executionInfo": {
     "elapsed": 1805,
     "status": "ok",
     "timestamp": 1585485763842,
     "user": {
      "displayName": "Pulkit Sharma",
      "photoUrl": "",
      "userId": "07234574884764057306"
     },
     "user_tz": -330
    },
    "id": "cwyI1EGZNFUw",
    "outputId": "93df5cbf-3413-4acb-cdaa-394a9ce50a37"
   },
   "outputs": [
    {
     "data": {
      "text/plain": [
       "(3, 1)"
      ]
     },
     "execution_count": 25,
     "metadata": {},
     "output_type": "execute_result"
    }
   ],
   "source": [
    "error_wrt_who.shape"
   ]
  },
  {
   "cell_type": "markdown",
   "metadata": {
    "colab_type": "text",
    "id": "sDFPg2SHNFU2"
   },
   "source": [
    "### Rate of change of error w.r.t weight between input and hidden layer"
   ]
  },
  {
   "cell_type": "markdown",
   "metadata": {
    "colab_type": "text",
    "id": "_757MrjBNFU2"
   },
   "source": [
    "![alt text](https://drive.google.com/uc?id=1X4-iInwlv7ber3fwgtqHuHTuFRci-tMV)"
   ]
  },
  {
   "cell_type": "markdown",
   "metadata": {
    "colab_type": "text",
    "id": "_nPYGXkeNFU4"
   },
   "source": [
    "**a. Rate of change of error w.r.t output**\n",
    "\n",
    "**b. Rate of change of output w.r.t Z2**\n",
    "\n",
    "**c. Rate of change of Z2 w.r.t hidden layer activations**\n",
    "\n",
    "**d. Rate of change of hidden layer activations w.r.t Z1**\n",
    "\n",
    "**e. Rate of change of Z1 w.r.t weights between input and hidden layer**"
   ]
  },
  {
   "cell_type": "code",
   "execution_count": 26,
   "metadata": {
    "colab": {},
    "colab_type": "code",
    "id": "Sb7Ezxw9NFU6"
   },
   "outputs": [],
   "source": [
    "# rate of change of error w.r.t. output\n",
    "error_wrt_output = -(y-output)"
   ]
  },
  {
   "cell_type": "code",
   "execution_count": 27,
   "metadata": {
    "colab": {},
    "colab_type": "code",
    "id": "3-SGbNaoNFVA"
   },
   "outputs": [],
   "source": [
    "# rate of change of output w.r.t. Z2\n",
    "output_wrt_Z2 = np.multiply(output,(1-output))"
   ]
  },
  {
   "cell_type": "code",
   "execution_count": 28,
   "metadata": {
    "colab": {},
    "colab_type": "code",
    "id": "amuoR7h6NFVF"
   },
   "outputs": [],
   "source": [
    "# rate of change of Z2 w.r.t. hidden layer activations\n",
    "Z2_wrt_h1 = w_ho"
   ]
  },
  {
   "cell_type": "code",
   "execution_count": 29,
   "metadata": {
    "colab": {},
    "colab_type": "code",
    "id": "YDUZEdWKNFVJ"
   },
   "outputs": [],
   "source": [
    "# rate of change of hidden layer activations w.r.t. Z1\n",
    "h1_wrt_Z1 = np.multiply(hiddenlayer_activations,(1-hiddenlayer_activations))"
   ]
  },
  {
   "cell_type": "code",
   "execution_count": 30,
   "metadata": {
    "colab": {},
    "colab_type": "code",
    "id": "Ft4U6Td6NFVO"
   },
   "outputs": [],
   "source": [
    "# rate of change of Z1 w.r.t. weights between input and hidden layer\n",
    "Z1_wrt_wih = X"
   ]
  },
  {
   "cell_type": "code",
   "execution_count": 31,
   "metadata": {
    "colab": {
     "base_uri": "https://localhost:8080/",
     "height": 34
    },
    "colab_type": "code",
    "executionInfo": {
     "elapsed": 1069,
     "status": "ok",
     "timestamp": 1585485765410,
     "user": {
      "displayName": "Pulkit Sharma",
      "photoUrl": "",
      "userId": "07234574884764057306"
     },
     "user_tz": -330
    },
    "id": "A-hsfsi4NFVR",
    "outputId": "2d5a0542-4563-4989-90be-382eba30a03a"
   },
   "outputs": [
    {
     "data": {
      "text/plain": [
       "((1, 3), (1, 3), (3, 1), (3, 3), (4, 3))"
      ]
     },
     "execution_count": 31,
     "metadata": {},
     "output_type": "execute_result"
    }
   ],
   "source": [
    "# checking the shapes of partial derivatives\n",
    "error_wrt_output.shape, output_wrt_Z2.shape, Z2_wrt_h1.shape, h1_wrt_Z1.shape, Z1_wrt_wih.shape"
   ]
  },
  {
   "cell_type": "code",
   "execution_count": 32,
   "metadata": {
    "colab": {
     "base_uri": "https://localhost:8080/",
     "height": 34
    },
    "colab_type": "code",
    "executionInfo": {
     "elapsed": 1503,
     "status": "ok",
     "timestamp": 1585485766077,
     "user": {
      "displayName": "Pulkit Sharma",
      "photoUrl": "",
      "userId": "07234574884764057306"
     },
     "user_tz": -330
    },
    "id": "1uka_yPrNFVV",
    "outputId": "238e6afd-f960-4eb3-c02c-b95a31932b5a"
   },
   "outputs": [
    {
     "data": {
      "text/plain": [
       "(4, 3)"
      ]
     },
     "execution_count": 32,
     "metadata": {},
     "output_type": "execute_result"
    }
   ],
   "source": [
    "# shape of weights of hidden layer\n",
    "w_ih.shape"
   ]
  },
  {
   "cell_type": "markdown",
   "metadata": {
    "colab_type": "text",
    "id": "gCeSm7vrHbHj"
   },
   "source": [
    "![alt text](https://drive.google.com/uc?id=1RkG5x1NEFWlF3tj0OlswOWvBcV5XNV1C)"
   ]
  },
  {
   "cell_type": "code",
   "execution_count": 33,
   "metadata": {
    "colab": {},
    "colab_type": "code",
    "id": "XTPNf3E5NFVs"
   },
   "outputs": [],
   "source": [
    "# rate of change of error w.r.t weights between input and hidden layer\n",
    "error_wrt_wih = np.dot(Z1_wrt_wih,(h1_wrt_Z1*np.dot(Z2_wrt_h1,(output_wrt_Z2*error_wrt_output))).T)"
   ]
  },
  {
   "cell_type": "code",
   "execution_count": 34,
   "metadata": {
    "colab": {
     "base_uri": "https://localhost:8080/",
     "height": 34
    },
    "colab_type": "code",
    "executionInfo": {
     "elapsed": 2480,
     "status": "ok",
     "timestamp": 1585485768146,
     "user": {
      "displayName": "Pulkit Sharma",
      "photoUrl": "",
      "userId": "07234574884764057306"
     },
     "user_tz": -330
    },
    "id": "_WN0I-mpNFVw",
    "outputId": "a7ab9b3d-3a2a-4480-f15e-11d1f5ae8e13"
   },
   "outputs": [
    {
     "data": {
      "text/plain": [
       "(4, 3)"
      ]
     },
     "execution_count": 34,
     "metadata": {},
     "output_type": "execute_result"
    }
   ],
   "source": [
    "error_wrt_wih.shape"
   ]
  },
  {
   "cell_type": "markdown",
   "metadata": {
    "colab_type": "text",
    "id": "W2bu4H5-NFVz"
   },
   "source": [
    "### Update the parameters"
   ]
  },
  {
   "cell_type": "markdown",
   "metadata": {
    "colab_type": "text",
    "id": "-nmJnY_PNFV1"
   },
   "source": [
    "![alt text](https://drive.google.com/uc?id=1A5jaB3WjZx9yrJkk9imVEvP3PZodjapE)"
   ]
  },
  {
   "cell_type": "code",
   "execution_count": 35,
   "metadata": {
    "colab": {},
    "colab_type": "code",
    "id": "_r59xEpINFV2"
   },
   "outputs": [],
   "source": [
    "# defining the learning rate\n",
    "lr = 0.01"
   ]
  },
  {
   "cell_type": "code",
   "execution_count": 36,
   "metadata": {
    "colab": {
     "base_uri": "https://localhost:8080/",
     "height": 69
    },
    "colab_type": "code",
    "executionInfo": {
     "elapsed": 2341,
     "status": "ok",
     "timestamp": 1585485769472,
     "user": {
      "displayName": "Pulkit Sharma",
      "photoUrl": "",
      "userId": "07234574884764057306"
     },
     "user_tz": -330
    },
    "id": "aiBFNXd3NFV7",
    "outputId": "a7362697-b6e0-41c1-8a5a-bb525ed22c3e"
   },
   "outputs": [
    {
     "data": {
      "text/plain": [
       "array([[0.80942365],\n",
       "       [0.53803984],\n",
       "       [0.18169794]])"
      ]
     },
     "execution_count": 36,
     "metadata": {},
     "output_type": "execute_result"
    }
   ],
   "source": [
    "# initial w_ho and w_ih\n",
    "w_ho"
   ]
  },
  {
   "cell_type": "code",
   "execution_count": 37,
   "metadata": {
    "colab": {
     "base_uri": "https://localhost:8080/",
     "height": 86
    },
    "colab_type": "code",
    "executionInfo": {
     "elapsed": 1928,
     "status": "ok",
     "timestamp": 1585485769474,
     "user": {
      "displayName": "Pulkit Sharma",
      "photoUrl": "",
      "userId": "07234574884764057306"
     },
     "user_tz": -330
    },
    "id": "CuosFKUENFWB",
    "outputId": "fa8986c3-9960-4985-b6ec-e7d9a51f16e1",
    "scrolled": true
   },
   "outputs": [
    {
     "data": {
      "text/plain": [
       "array([[0.21961466, 0.2381788 , 0.78111823],\n",
       "       [0.87692472, 0.65980643, 0.56509714],\n",
       "       [0.02992463, 0.36017459, 0.46746584],\n",
       "       [0.247335  , 0.13266896, 0.11249356]])"
      ]
     },
     "execution_count": 37,
     "metadata": {},
     "output_type": "execute_result"
    }
   ],
   "source": [
    "w_ih"
   ]
  },
  {
   "cell_type": "code",
   "execution_count": 38,
   "metadata": {
    "colab": {},
    "colab_type": "code",
    "id": "D_Va2xywNFWF"
   },
   "outputs": [],
   "source": [
    "# updating the weights of output layer\n",
    "w_ho = w_ho - lr * error_wrt_who"
   ]
  },
  {
   "cell_type": "code",
   "execution_count": 39,
   "metadata": {
    "colab": {},
    "colab_type": "code",
    "id": "ruFlc96BNFWL"
   },
   "outputs": [],
   "source": [
    "# updating the weights of hidden layer\n",
    "w_ih = w_ih - lr * error_wrt_wih"
   ]
  },
  {
   "cell_type": "code",
   "execution_count": 40,
   "metadata": {
    "colab": {
     "base_uri": "https://localhost:8080/",
     "height": 69
    },
    "colab_type": "code",
    "executionInfo": {
     "elapsed": 1799,
     "status": "ok",
     "timestamp": 1585485770584,
     "user": {
      "displayName": "Pulkit Sharma",
      "photoUrl": "",
      "userId": "07234574884764057306"
     },
     "user_tz": -330
    },
    "id": "NTf4nS1xNFWP",
    "outputId": "feb1e8da-cdff-4374-cf88-a66e1449ea05"
   },
   "outputs": [
    {
     "data": {
      "text/plain": [
       "array([[0.80900522],\n",
       "       [0.53778958],\n",
       "       [0.18162061]])"
      ]
     },
     "execution_count": 40,
     "metadata": {},
     "output_type": "execute_result"
    }
   ],
   "source": [
    "# updated w_ho and w_ih\n",
    "w_ho"
   ]
  },
  {
   "cell_type": "code",
   "execution_count": 41,
   "metadata": {
    "colab": {
     "base_uri": "https://localhost:8080/",
     "height": 86
    },
    "colab_type": "code",
    "executionInfo": {
     "elapsed": 2866,
     "status": "ok",
     "timestamp": 1585485772036,
     "user": {
      "displayName": "Pulkit Sharma",
      "photoUrl": "",
      "userId": "07234574884764057306"
     },
     "user_tz": -330
    },
    "id": "7VYNPPNlNFWU",
    "outputId": "ae17551f-c966-4124-9ad1-95f3a9e59fad"
   },
   "outputs": [
    {
     "data": {
      "text/plain": [
       "array([[0.21982661, 0.23831   , 0.78115142],\n",
       "       [0.87671421, 0.65964425, 0.56504011],\n",
       "       [0.03013658, 0.36030579, 0.46749903],\n",
       "       [0.24722383, 0.13256837, 0.11245193]])"
      ]
     },
     "execution_count": 41,
     "metadata": {},
     "output_type": "execute_result"
    }
   ],
   "source": [
    "w_ih"
   ]
  },
  {
   "cell_type": "markdown",
   "metadata": {
    "colab_type": "text",
    "id": "SxLy6DZlNFWY"
   },
   "source": [
    "## 6. Training the model for n epochs"
   ]
  },
  {
   "cell_type": "code",
   "execution_count": 42,
   "metadata": {
    "colab": {},
    "colab_type": "code",
    "id": "8HKS9vIyNFWZ"
   },
   "outputs": [],
   "source": [
    "# defining the model architecture\n",
    "inputlayer_neurons = X.shape[0] # number of features in data set\n",
    "hiddenlayer_neurons = 3 # number of hidden layers neurons\n",
    "output_neurons = 1 # number of neurons at output layer\n",
    "\n",
    "# initializing weight\n",
    "w_ih=np.random.uniform(size=(inputlayer_neurons,hiddenlayer_neurons))\n",
    "w_ho=np.random.uniform(size=(hiddenlayer_neurons,output_neurons))\n",
    "\n",
    "# defining the parameters\n",
    "lr = 0.01\n",
    "epochs = 10000"
   ]
  },
  {
   "cell_type": "code",
   "execution_count": 43,
   "metadata": {
    "colab": {
     "base_uri": "https://localhost:8080/",
     "height": 86
    },
    "colab_type": "code",
    "executionInfo": {
     "elapsed": 2151,
     "status": "ok",
     "timestamp": 1585485772038,
     "user": {
      "displayName": "Pulkit Sharma",
      "photoUrl": "",
      "userId": "07234574884764057306"
     },
     "user_tz": -330
    },
    "id": "ojybM51LNFWc",
    "outputId": "b368f6a2-87e3-4777-fea0-1efc795e8b83"
   },
   "outputs": [
    {
     "data": {
      "text/plain": [
       "array([[0.21259566, 0.35643491, 0.66756214],\n",
       "       [0.85431284, 0.73519421, 0.57051133],\n",
       "       [0.81998676, 0.51091734, 0.63665445],\n",
       "       [0.80413488, 0.93411459, 0.89563323]])"
      ]
     },
     "execution_count": 43,
     "metadata": {},
     "output_type": "execute_result"
    }
   ],
   "source": [
    "# initial w_ih and w_ho\n",
    "w_ih"
   ]
  },
  {
   "cell_type": "code",
   "execution_count": 44,
   "metadata": {
    "colab": {
     "base_uri": "https://localhost:8080/",
     "height": 69
    },
    "colab_type": "code",
    "executionInfo": {
     "elapsed": 1811,
     "status": "ok",
     "timestamp": 1585485772039,
     "user": {
      "displayName": "Pulkit Sharma",
      "photoUrl": "",
      "userId": "07234574884764057306"
     },
     "user_tz": -330
    },
    "id": "1RS_d3kdNFWg",
    "outputId": "00d4aa30-5bb8-4b2f-8c97-21e2da705d10"
   },
   "outputs": [
    {
     "data": {
      "text/plain": [
       "array([[0.35471643],\n",
       "       [0.87338054],\n",
       "       [0.49066467]])"
      ]
     },
     "execution_count": 44,
     "metadata": {},
     "output_type": "execute_result"
    }
   ],
   "source": [
    "w_ho"
   ]
  },
  {
   "cell_type": "code",
   "execution_count": 45,
   "metadata": {
    "colab": {},
    "colab_type": "code",
    "id": "_yVAcyW_NFWk"
   },
   "outputs": [],
   "source": [
    "error_epoch = []\n",
    "for i in range(epochs):\n",
    "    # Forward Propogation\n",
    "    \n",
    "    # hidden layer activations\n",
    "    hidden_layer_input=np.dot(w_ih.T,X)\n",
    "    hiddenlayer_activations = sigmoid(hidden_layer_input)    \n",
    "    # calculating the output\n",
    "    output_layer_input=np.dot(w_ho.T,hiddenlayer_activations)\n",
    "    output = sigmoid(output_layer_input)\n",
    "    \n",
    "    \n",
    "    # Backward Propagation\n",
    "    \n",
    "    # calculating error\n",
    "    error = np.square(y-output)/2\n",
    "    error_wrt_output = -(y-output)\n",
    "    output_wrt_Z2 = np.multiply(output,(1-output))\n",
    "    Z2_wrt_who = hiddenlayer_activations\n",
    "    # rate of change of error w.r.t weight between hidden and output layer\n",
    "    error_wrt_who = np.dot(Z2_wrt_who,(error_wrt_output*output_wrt_Z2).T)\n",
    "    Z2_wrt_h1 = w_ho\n",
    "    h1_wrt_Z1 = np.multiply(hiddenlayer_activations,(1-hiddenlayer_activations))\n",
    "    Z1_wrt_wih = X\n",
    "    # rate of change of error w.r.t weights between input and hidden layer\n",
    "    error_wrt_wih = np.dot(Z1_wrt_wih,(h1_wrt_Z1*np.dot(Z2_wrt_h1,(error_wrt_output*output_wrt_Z2))).T)\n",
    "\n",
    "    # updating the weights between hidden and output layer\n",
    "    w_ho = w_ho - lr * error_wrt_who\n",
    "    # updating the weights between input and hidden layer\n",
    "    w_ih = w_ih - lr * error_wrt_wih\n",
    "    \n",
    "    # appending the error of each epoch\n",
    "    error_epoch.append(np.average(error))"
   ]
  },
  {
   "cell_type": "code",
   "execution_count": 46,
   "metadata": {
    "colab": {
     "base_uri": "https://localhost:8080/",
     "height": 86
    },
    "colab_type": "code",
    "executionInfo": {
     "elapsed": 2409,
     "status": "ok",
     "timestamp": 1585485773423,
     "user": {
      "displayName": "Pulkit Sharma",
      "photoUrl": "",
      "userId": "07234574884764057306"
     },
     "user_tz": -330
    },
    "id": "Ra5mTgwUNFWo",
    "outputId": "20de9dc0-62b7-4f07-fd3d-cf290542ac8f"
   },
   "outputs": [
    {
     "data": {
      "text/plain": [
       "array([[-0.68619684,  1.29524789,  1.18166918],\n",
       "       [ 1.46376597, -1.32255698, -0.82707917],\n",
       "       [-0.07880574,  1.44973033,  1.1507615 ],\n",
       "       [ 0.90818591, -0.652678  , -0.26035733]])"
      ]
     },
     "execution_count": 46,
     "metadata": {},
     "output_type": "execute_result"
    }
   ],
   "source": [
    "# updated w_ih and w_ho\n",
    "w_ih"
   ]
  },
  {
   "cell_type": "code",
   "execution_count": 47,
   "metadata": {
    "colab": {
     "base_uri": "https://localhost:8080/",
     "height": 283
    },
    "colab_type": "code",
    "executionInfo": {
     "elapsed": 2186,
     "status": "ok",
     "timestamp": 1585485784562,
     "user": {
      "displayName": "Pulkit Sharma",
      "photoUrl": "",
      "userId": "07234574884764057306"
     },
     "user_tz": -330
    },
    "id": "WeN2dcc0NFW8",
    "outputId": "59ab0369-88ea-4f52-87b4-99da23925bb9",
    "scrolled": true
   },
   "outputs": [
    {
     "data": {
      "text/plain": [
       "[<matplotlib.lines.Line2D at 0x2083832bd90>]"
      ]
     },
     "execution_count": 47,
     "metadata": {},
     "output_type": "execute_result"
    },
    {
     "data": {
      "image/png": "[encoded data removed]",
      "text/plain": [
       "<Figure size 640x480 with 1 Axes>"
      ]
     },
     "metadata": {},
     "output_type": "display_data"
    }
   ],
   "source": [
    "# visualizing the error after each epoch\n",
    "plt.plot(np.arange(1,epochs+1), np.array(error_epoch))"
   ]
  },
  {
   "cell_type": "code",
   "execution_count": 48,
   "metadata": {
    "colab": {
     "base_uri": "https://localhost:8080/",
     "height": 34
    },
    "colab_type": "code",
    "executionInfo": {
     "elapsed": 1949,
     "status": "ok",
     "timestamp": 1585485784571,
     "user": {
      "displayName": "Pulkit Sharma",
      "photoUrl": "",
      "userId": "07234574884764057306"
     },
     "user_tz": -330
    },
    "id": "bJlcGoeUNFXA",
    "outputId": "052f7ac8-c10e-49e4-df8e-69bff60d4381"
   },
   "outputs": [
    {
     "data": {
      "text/plain": [
       "array([[0.93598588, 0.8839978 , 0.18340013]])"
      ]
     },
     "execution_count": 48,
     "metadata": {},
     "output_type": "execute_result"
    }
   ],
   "source": [
    "# final output from the model\n",
    "output"
   ]
  },
  {
   "cell_type": "code",
   "execution_count": 49,
   "metadata": {
    "colab": {
     "base_uri": "https://localhost:8080/",
     "height": 34
    },
    "colab_type": "code",
    "executionInfo": {
     "elapsed": 1904,
     "status": "ok",
     "timestamp": 1585485785455,
     "user": {
      "displayName": "Pulkit Sharma",
      "photoUrl": "",
      "userId": "07234574884764057306"
     },
     "user_tz": -330
    },
    "id": "ARNn3MiKNFXF",
    "outputId": "eb1606ed-53da-48f8-c5a0-f4c459e71fdc"
   },
   "outputs": [
    {
     "data": {
      "text/plain": [
       "array([[1, 1, 0]])"
      ]
     },
     "execution_count": 49,
     "metadata": {},
     "output_type": "execute_result"
    }
   ],
   "source": [
    "# actual target\n",
    "y"
   ]
  },
  {
   "cell_type": "code",
   "execution_count": 50,
   "metadata": {
    "colab": {
     "base_uri": "https://localhost:8080/",
     "height": 34
    },
    "colab_type": "code",
    "executionInfo": {
     "elapsed": 1734,
     "status": "ok",
     "timestamp": 1585485785462,
     "user": {
      "displayName": "Pulkit Sharma",
      "photoUrl": "",
      "userId": "07234574884764057306"
     },
     "user_tz": -330
    },
    "id": "MtwXl0bjNFXJ",
    "outputId": "d5037572-8214-4175-fd97-92eaea9c3540"
   },
   "outputs": [
    {
     "data": {
      "text/plain": [
       "array([[0.0020489 , 0.00672826, 0.0168178 ]])"
      ]
     },
     "execution_count": 50,
     "metadata": {},
     "output_type": "execute_result"
    }
   ],
   "source": [
    "# error at last epoch\n",
    "error"
   ]
  },
  {
   "cell_type": "code",
   "execution_count": null,
   "metadata": {
    "colab": {},
    "colab_type": "code",
    "id": "HkfQF2CC2ir6"
   },
   "outputs": [],
   "source": []
  },
  {
   "cell_type": "code",
   "execution_count": null,
   "metadata": {},
   "outputs": [],
   "source": []
  },
  {
   "cell_type": "code",
   "execution_count": null,
   "metadata": {},
   "outputs": [],
   "source": []
  }
 ],
 "metadata": {
  "accelerator": "GPU",
  "colab": {
   "collapsed_sections": [],
   "name": "Neural Network from scratch using NumPy.ipynb",
   "provenance": []
  },
  "kernelspec": {
   "display_name": "Python 3 (ipykernel)",
   "language": "python",
   "name": "python3"
  },
  "language_info": {
   "codemirror_mode": {
    "name": "ipython",
    "version": 3
   },
   "file_extension": ".py",
   "mimetype": "text/x-python",
   "name": "python",
   "nbconvert_exporter": "python",
   "pygments_lexer": "ipython3",
   "version": "3.11.5"
  }
 },
 "nbformat": 4,
 "nbformat_minor": 1
}
